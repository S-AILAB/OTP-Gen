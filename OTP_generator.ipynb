{
  "nbformat": 4,
  "nbformat_minor": 0,
  "metadata": {
    "colab": {
      "provenance": [],
      "include_colab_link": true
    },
    "kernelspec": {
      "name": "python3",
      "display_name": "Python 3"
    },
    "language_info": {
      "name": "python"
    }
  },
  "cells": [
    {
      "cell_type": "markdown",
      "metadata": {
        "id": "view-in-github",
        "colab_type": "text"
      },
      "source": [
        "<a href=\"https://colab.research.google.com/github/S-AILAB/OTP-Gen/blob/main/OTP_generator.ipynb\" target=\"_parent\"><img src=\"https://colab.research.google.com/assets/colab-badge.svg\" alt=\"Open In Colab\"/></a>"
      ]
    },
    {
      "cell_type": "code",
      "execution_count": 4,
      "metadata": {
        "colab": {
          "base_uri": "https://localhost:8080/"
        },
        "id": "dUGHj_6kc3ZH",
        "outputId": "48e17c8c-fcbc-484e-cf11-93cbb48f2002"
      },
      "outputs": [
        {
          "output_type": "stream",
          "name": "stdout",
          "text": [
            "6aUlE0PcQDL\n"
          ]
        }
      ],
      "source": [
        "import string\n",
        "import random\n",
        "\n",
        "# def fun\n",
        "def rand_pass(size):\n",
        "  gen = ''.join([random.choice(string.ascii_uppercase +\n",
        "                               string.ascii_lowercase +\n",
        "                               string.digits) for i in range (size)])\n",
        "\n",
        "  return gen\n",
        "\n",
        "\n",
        "pd = rand_pass(11)\n",
        "print(pd)\n",
        "\n"
      ]
    },
    {
      "cell_type": "code",
      "source": [
        "# Importing random to generate\n",
        "# random string sequence\n",
        "import random\n",
        "\n",
        "# Importing string library function\n",
        "import string\n",
        "\n",
        "def rand_pass(size):\n",
        "\n",
        "    # Takes random choices from\n",
        "    # ascii_letters and digits\n",
        "    generate_pass = ''.join([random.choice( string.ascii_uppercase +\n",
        "                                            string.ascii_lowercase +\n",
        "                                            string.digits)\n",
        "                                            for n in range(size)])\n",
        "\n",
        "    return generate_pass\n",
        "\n",
        "# Driver Code\n",
        "password = rand_pass(10)\n",
        "print(password)"
      ],
      "metadata": {
        "colab": {
          "base_uri": "https://localhost:8080/"
        },
        "id": "fsyIBW3_d1VH",
        "outputId": "369c89f5-783e-4f8c-9b91-b5261a3e1095"
      },
      "execution_count": 5,
      "outputs": [
        {
          "output_type": "stream",
          "name": "stdout",
          "text": [
            "jtgSgMUpMO\n"
          ]
        }
      ]
    },
    {
      "cell_type": "code",
      "source": [
        "import math\n",
        "import random\n",
        "\n",
        "def ran_pass ():\n",
        "  #digit = ''\n",
        "\n",
        "  for i in range(4):\n",
        "    digit = math.floor[random.random()]\n",
        "\n",
        "  return digit\n",
        "\n",
        "\n",
        "print(ran_pass)"
      ],
      "metadata": {
        "colab": {
          "base_uri": "https://localhost:8080/"
        },
        "id": "igAWn85_fu4P",
        "outputId": "73401550-b3ed-45b0-8d85-2cb7dbeb6eef"
      },
      "execution_count": 6,
      "outputs": [
        {
          "output_type": "stream",
          "name": "stdout",
          "text": [
            "<function ran_pass at 0x7d418c5c63b0>\n"
          ]
        }
      ]
    }
  ]
}